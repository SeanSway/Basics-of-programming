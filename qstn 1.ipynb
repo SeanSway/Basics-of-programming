{
 "cells": [
  {
   "cell_type": "code",
   "execution_count": 1,
   "id": "c4ddaafe-f7af-4d0c-94e0-2fe1da86fa83",
   "metadata": {},
   "outputs": [],
   "source": [
    "import math"
   ]
  },
  {
   "cell_type": "code",
   "execution_count": 3,
   "id": "968a4c67-1a4f-40a9-a5c6-c83f477a0504",
   "metadata": {},
   "outputs": [],
   "source": [
    "def calculate_join(x1, y1, x2, y2):\n",
    "    distance = math.sqrt((x2 - x1)**2 + (y2 - y1)**2)\n",
    "    angle = math.atan2(y2 - y1, x2 - x1)\n",
    "    return distance, math.degrees(angle)"
   ]
  }
 ],
 "metadata": {
  "kernelspec": {
   "display_name": "Python 3 (ipykernel)",
   "language": "python",
   "name": "python3"
  },
  "language_info": {
   "codemirror_mode": {
    "name": "ipython",
    "version": 3
   },
   "file_extension": ".py",
   "mimetype": "text/x-python",
   "name": "python",
   "nbconvert_exporter": "python",
   "pygments_lexer": "ipython3",
   "version": "3.12.4"
  }
 },
 "nbformat": 4,
 "nbformat_minor": 5
}
