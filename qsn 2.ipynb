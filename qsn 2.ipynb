{
 "cells": [
  {
   "cell_type": "code",
   "execution_count": 1,
   "id": "108ddeca-8e3a-4245-9821-822b5dc97f53",
   "metadata": {},
   "outputs": [],
   "source": [
    "import math"
   ]
  },
  {
   "cell_type": "code",
   "execution_count": 5,
   "id": "b0ad5794-02b4-4098-8334-30cabbe5d209",
   "metadata": {},
   "outputs": [],
   "source": [
    "def polar_calculation(distance, bearing_degrees):\n",
    "        # Convert the bearing to radians\n",
    "    bearing_radians = math.radians(bearing_degrees)\n",
    "    \n",
    "    # Calculate x and y coordinates\n",
    "    x = distance * math.cos(bearing_radians)\n",
    "    y = distance * math.sin(bearing_radians)\n",
    "    \n",
    "    return x, y"
   ]
  }
 ],
 "metadata": {
  "kernelspec": {
   "display_name": "Python 3 (ipykernel)",
   "language": "python",
   "name": "python3"
  },
  "language_info": {
   "codemirror_mode": {
    "name": "ipython",
    "version": 3
   },
   "file_extension": ".py",
   "mimetype": "text/x-python",
   "name": "python",
   "nbconvert_exporter": "python",
   "pygments_lexer": "ipython3",
   "version": "3.12.4"
  }
 },
 "nbformat": 4,
 "nbformat_minor": 5
}
